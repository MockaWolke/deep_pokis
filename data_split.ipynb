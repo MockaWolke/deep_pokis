{
 "cells": [
  {
   "cell_type": "code",
   "execution_count": 1,
   "metadata": {},
   "outputs": [],
   "source": [
    "import pandas as pd\n",
    "import matplotlib.pyplot as plt\n",
    "from glob import glob\n",
    "import os\n",
    "import numpy as np\n",
    "import json"
   ]
  },
  {
   "cell_type": "code",
   "execution_count": 14,
   "metadata": {},
   "outputs": [
    {
     "data": {
      "text/html": [
       "<div>\n",
       "<style scoped>\n",
       "    .dataframe tbody tr th:only-of-type {\n",
       "        vertical-align: middle;\n",
       "    }\n",
       "\n",
       "    .dataframe tbody tr th {\n",
       "        vertical-align: top;\n",
       "    }\n",
       "\n",
       "    .dataframe thead th {\n",
       "        text-align: right;\n",
       "    }\n",
       "</style>\n",
       "<table border=\"1\" class=\"dataframe\">\n",
       "  <thead>\n",
       "    <tr style=\"text-align: right;\">\n",
       "      <th></th>\n",
       "      <th>image_id</th>\n",
       "      <th>main_type</th>\n",
       "      <th>secondary_type</th>\n",
       "      <th>path</th>\n",
       "      <th>ds_type</th>\n",
       "    </tr>\n",
       "  </thead>\n",
       "  <tbody>\n",
       "    <tr>\n",
       "      <th>0</th>\n",
       "      <td>aae8b80f-e334-4974-a3c6-5e922fb76284</td>\n",
       "      <td>Bug</td>\n",
       "      <td>Grass</td>\n",
       "      <td>data/train/aae8b80f-e334-4974-a3c6-5e922fb7628...</td>\n",
       "      <td>og</td>\n",
       "    </tr>\n",
       "    <tr>\n",
       "      <th>1</th>\n",
       "      <td>cd792a8c-717b-4a60-85ee-7940ce0f81bb</td>\n",
       "      <td>Water</td>\n",
       "      <td>None</td>\n",
       "      <td>data/train/cd792a8c-717b-4a60-85ee-7940ce0f81b...</td>\n",
       "      <td>og</td>\n",
       "    </tr>\n",
       "    <tr>\n",
       "      <th>2</th>\n",
       "      <td>b2206a6a-d898-4c01-9b0f-6775a2b302a8</td>\n",
       "      <td>Electric</td>\n",
       "      <td>None</td>\n",
       "      <td>data/train/b2206a6a-d898-4c01-9b0f-6775a2b302a...</td>\n",
       "      <td>og</td>\n",
       "    </tr>\n",
       "    <tr>\n",
       "      <th>3</th>\n",
       "      <td>6f6d6294-93da-410a-801a-29dbe353b148</td>\n",
       "      <td>Fairy</td>\n",
       "      <td>None</td>\n",
       "      <td>data/train/6f6d6294-93da-410a-801a-29dbe353b14...</td>\n",
       "      <td>og</td>\n",
       "    </tr>\n",
       "    <tr>\n",
       "      <th>4</th>\n",
       "      <td>7ae5d5d4-650b-40c9-bebb-7153f45f793c</td>\n",
       "      <td>Electric</td>\n",
       "      <td>Fairy</td>\n",
       "      <td>data/train/7ae5d5d4-650b-40c9-bebb-7153f45f793...</td>\n",
       "      <td>og</td>\n",
       "    </tr>\n",
       "  </tbody>\n",
       "</table>\n",
       "</div>"
      ],
      "text/plain": [
       "                               image_id main_type secondary_type  \\\n",
       "0  aae8b80f-e334-4974-a3c6-5e922fb76284       Bug          Grass   \n",
       "1  cd792a8c-717b-4a60-85ee-7940ce0f81bb     Water           None   \n",
       "2  b2206a6a-d898-4c01-9b0f-6775a2b302a8  Electric           None   \n",
       "3  6f6d6294-93da-410a-801a-29dbe353b148     Fairy           None   \n",
       "4  7ae5d5d4-650b-40c9-bebb-7153f45f793c  Electric          Fairy   \n",
       "\n",
       "                                                path ds_type  \n",
       "0  data/train/aae8b80f-e334-4974-a3c6-5e922fb7628...      og  \n",
       "1  data/train/cd792a8c-717b-4a60-85ee-7940ce0f81b...      og  \n",
       "2  data/train/b2206a6a-d898-4c01-9b0f-6775a2b302a...      og  \n",
       "3  data/train/6f6d6294-93da-410a-801a-29dbe353b14...      og  \n",
       "4  data/train/7ae5d5d4-650b-40c9-bebb-7153f45f793...      og  "
      ]
     },
     "execution_count": 14,
     "metadata": {},
     "output_type": "execute_result"
    }
   ],
   "source": [
    "df = pd.read_csv(\"data/og_train.csv\")\n",
    "df.secondary_type = df.secondary_type.fillna(\"None\")\n",
    "df[\"path\"] = \"data/train/\" + df.image_id + \".png\" \n",
    "df[\"ds_type\"] = \"og\"\n",
    "df.head()"
   ]
  },
  {
   "cell_type": "code",
   "execution_count": 15,
   "metadata": {},
   "outputs": [
    {
     "data": {
      "image/png": "[encoded data removed]",
      "text/plain": [
       "<Figure size 640x480 with 1 Axes>"
      ]
     },
     "metadata": {},
     "output_type": "display_data"
    }
   ],
   "source": [
    "df.value_counts(\"main_type\", normalize=True).plot.bar()\n",
    "plt.show()"
   ]
  },
  {
   "cell_type": "code",
   "execution_count": 16,
   "metadata": {},
   "outputs": [],
   "source": [
    "test_images = pd.DataFrame({\"path\": glob(\"data/test/*.png\")})\n",
    "test_images[\"ds_type\"] = \"test\"\n",
    "test_images[\"image_id\"] = test_images.path.apply(lambda x: os.path.basename(x).replace(\".png\",\"\"))\n",
    "\n",
    "df = pd.concat((df, test_images))"
   ]
  },
  {
   "cell_type": "code",
   "execution_count": 17,
   "metadata": {},
   "outputs": [],
   "source": [
    "add_data = pd.read_csv(\"data/generated_imgs.csv\", index_col=0).reset_index(names = \"pokemon\")\n",
    "\n",
    "add_data  = add_data.rename(columns = {\n",
    "    \"primary\":\"main_type\",\n",
    "    \"Id\": \"image_id\",\n",
    "})[[\"image_id\",\"main_type\", \"background_path\",\"pokemon\"]]\n",
    "add_data[\"path\"] = \"data/generated/\" + add_data.image_id.astype(str) + \".jpg\"\n",
    "add_data[\"ds_type\"] = \"aug\"\n",
    "\n",
    "labels = set(add_data.main_type.unique())\n",
    "og = set(df.main_type)\n",
    "og.discard(np.nan)\n",
    "assert labels == og\n",
    "\n",
    "df = pd.concat((df.sample(frac=1, random_state=0), add_data.sample(frac=1, random_state=0)))\n",
    "df.index = np.arange(len(df))"
   ]
  },
  {
   "cell_type": "code",
   "execution_count": 18,
   "metadata": {},
   "outputs": [
    {
     "data": {
      "text/plain": [
       "ds_type\n",
       "aug     1.000000\n",
       "og      0.976553\n",
       "test    0.983030\n",
       "Name: cropp_exists, dtype: float64"
      ]
     },
     "execution_count": 18,
     "metadata": {},
     "output_type": "execute_result"
    }
   ],
   "source": [
    "\n",
    "\n",
    "def crop_path(path:str):\n",
    "    \n",
    "    base, ending = os.path.split(path)\n",
    "    \n",
    "    return os.path.join(base + \"_cropped\", ending)\n",
    "\n",
    "df[\"cropped_path\"] = df.path.apply(crop_path)\n",
    "df[\"cropp_exists\"] = df.cropped_path.apply(os.path.exists)\n",
    "to_drop = df.query(\"ds_type == 'aug' and not cropp_exists\").index\n",
    "df = df.drop(index=to_drop)\n",
    "df.groupby(\"ds_type\").cropp_exists.mean()"
   ]
  },
  {
   "cell_type": "code",
   "execution_count": 19,
   "metadata": {},
   "outputs": [
    {
     "data": {
      "text/plain": [
       "0         6469.0\n",
       "1         6149.0\n",
       "2         5644.0\n",
       "3         6469.0\n",
       "4         5649.0\n",
       "           ...  \n",
       "108085    5656.0\n",
       "108086    5649.0\n",
       "108087    5649.0\n",
       "108088    5778.0\n",
       "108089    6469.0\n",
       "Name: class_counts, Length: 107500, dtype: float64"
      ]
     },
     "execution_count": 19,
     "metadata": {},
     "output_type": "execute_result"
    }
   ],
   "source": [
    "classes = sorted(df.main_type.dropna().unique())\n",
    "\n",
    "class2id = {b:a for a,b in enumerate(classes)}\n",
    "id2class = {a:b for a,b in enumerate(classes)}\n",
    "\n",
    "with open(\"data/class2id.json\", \"w\") as f:\n",
    "    json.dump(class2id, f)\n",
    "    \n",
    "with open(\"data/id2class.json\", \"w\") as f:\n",
    "    json.dump(id2class, f)\n",
    "\n",
    "class2id[np.nan] = None\n",
    "\n",
    "\n",
    "df[\"class_id\"] = df.main_type.map(class2id)\n",
    "to_counts = df.class_id.value_counts().to_dict()\n",
    "df[\"class_counts\"] = df.class_id.map(to_counts)\n",
    "df.class_counts\n"
   ]
  },
  {
   "cell_type": "code",
   "execution_count": 21,
   "metadata": {},
   "outputs": [],
   "source": [
    "pokemon_classes = sorted(df.pokemon.dropna().unique())\n",
    "class2id = {b:a for a,b in enumerate(classes)}\n",
    "df[\"poke_id\"] = df.pokemon.map(class2id)"
   ]
  },
  {
   "cell_type": "code",
   "execution_count": 22,
   "metadata": {},
   "outputs": [],
   "source": [
    "df.to_csv(\"data/info.csv\")"
   ]
  }
 ],
 "metadata": {
  "kernelspec": {
   "display_name": "nlp",
   "language": "python",
   "name": "python3"
  },
  "language_info": {
   "codemirror_mode": {
    "name": "ipython",
    "version": 3
   },
   "file_extension": ".py",
   "mimetype": "text/x-python",
   "name": "python",
   "nbconvert_exporter": "python",
   "pygments_lexer": "ipython3",
   "version": "3.9.18"
  }
 },
 "nbformat": 4,
 "nbformat_minor": 2
}
