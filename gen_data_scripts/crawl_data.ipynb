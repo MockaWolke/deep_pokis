{
 "cells": [
  {
   "cell_type": "code",
   "execution_count": 1,
   "metadata": {},
   "outputs": [],
   "source": [
    "import requests\n",
    "import bs4\n",
    "import pandas as pd\n",
    "from PIL import Image\n",
    "import numpy as np\n",
    "from tqdm import tqdm\n",
    "from io import BytesIO"
   ]
  },
  {
   "cell_type": "code",
   "execution_count": 2,
   "metadata": {},
   "outputs": [],
   "source": [
    "page = requests.get(\"https://pokemondb.net/pokedex/all\")"
   ]
  },
  {
   "cell_type": "code",
   "execution_count": 3,
   "metadata": {},
   "outputs": [],
   "source": [
    "parser = bs4.BeautifulSoup(page.content, \"html.parser\")"
   ]
  },
  {
   "cell_type": "code",
   "execution_count": 4,
   "metadata": {},
   "outputs": [],
   "source": [
    "table = parser.find(\"table\")\n",
    "\n",
    "pokemon = []\n",
    "\n",
    "for tr in table.find_all(\"tr\")[1:]:\n",
    "\n",
    "    cols = tr.find_all(\"td\")\n",
    "    info = cols[1].find_all(href = True)[0]\n",
    "    \n",
    "    types = cols[2].find_all('a', class_='type-icon')\n",
    "    types = [i.get_text() for i in types]\n",
    "    pokemon.append((info[\"href\"], info.get_text(), types))\n",
    "    \n",
    "df = pd.DataFrame(pokemon, columns=[\"link\",\"name\", \"pokemon_type\"])\n",
    "df[\"primary\"] = df.pokemon_type.apply(lambda x: x[0])\n",
    "df[\"secondary\"] = df.pokemon_type.apply(lambda x: x[1] if len(x) > 1 else np.nan)\n",
    "df = df.drop(columns=[\"pokemon_type\"])"
   ]
  },
  {
   "cell_type": "code",
   "execution_count": 5,
   "metadata": {},
   "outputs": [],
   "source": [
    "to_img_url = lambda x: x.replace(\"/pokedex/\", \"https://img.pokemondb.net/artwork/large/\") + \".jpg\"\n",
    "df[\"img_url\"] = df.link.apply(to_img_url)"
   ]
  },
  {
   "cell_type": "code",
   "execution_count": 6,
   "metadata": {},
   "outputs": [
    {
     "name": "stderr",
     "output_type": "stream",
     "text": [
      "  0%|          | 0/1215 [00:00<?, ?it/s]"
     ]
    },
    {
     "name": "stderr",
     "output_type": "stream",
     "text": [
      "100%|██████████| 1215/1215 [05:31<00:00,  3.67it/s]\n"
     ]
    }
   ],
   "source": [
    "for i in tqdm(range(len(df))):\n",
    "    row = df.iloc[i]\n",
    "    \n",
    "    try: \n",
    "        response = requests.get(row.img_url, timeout=5)\n",
    "        response.raise_for_status()\n",
    "\n",
    "        img = Image.open(BytesIO(response.content))\n",
    "        img.save(f\"data/poke_images/{row.name}.png\")\n",
    "        \n",
    "    except requests.HTTPError:\n",
    "        pass"
   ]
  },
  {
   "cell_type": "code",
   "execution_count": 9,
   "metadata": {},
   "outputs": [
    {
     "data": {
      "text/plain": [
       "1.0"
      ]
     },
     "execution_count": 9,
     "metadata": {},
     "output_type": "execute_result"
    }
   ],
   "source": [
    "df[\"image_path\"]  = df.index.to_series().apply(lambda x: f\"data/poke_images/{x}.png\")\n",
    "\n",
    "import os\n",
    "exists = df.image_path.apply(os.path.exists)\n",
    "exists.mean()"
   ]
  },
  {
   "cell_type": "code",
   "execution_count": 10,
   "metadata": {},
   "outputs": [],
   "source": [
    "df.to_csv(\"data/parsed_from_index.csv\")"
   ]
  },
  {
   "cell_type": "code",
   "execution_count": null,
   "metadata": {},
   "outputs": [],
   "source": []
  }
 ],
 "metadata": {
  "kernelspec": {
   "display_name": "labelimg",
   "language": "python",
   "name": "python3"
  },
  "language_info": {
   "codemirror_mode": {
    "name": "ipython",
    "version": 3
   },
   "file_extension": ".py",
   "mimetype": "text/x-python",
   "name": "python",
   "nbconvert_exporter": "python",
   "pygments_lexer": "ipython3",
   "version": "3.12.2"
  }
 },
 "nbformat": 4,
 "nbformat_minor": 2
}
