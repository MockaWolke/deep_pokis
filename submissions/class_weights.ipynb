{
 "cells": [
  {
   "cell_type": "code",
   "execution_count": 21,
   "metadata": {},
   "outputs": [],
   "source": [
    "import pandas as pd\n",
    "from glob import glob\n",
    "import numpy as np\n",
    "dfs = [pd.read_csv(i, index_col=0).f1_score for i in glob(\"wandb_*.csv\", )]\n",
    "\n",
    "df = pd.DataFrame({\"mean_f1\":np.mean(dfs, 0), \"srd_f1\":np.std(dfs,0)}, index = dfs[0].index)\n",
    "\n",
    "df[\"class_discrepancy\"] = df.mean_f1.max() / df.mean_f1\n",
    "df.class_discrepancy.to_json(\"../class_performance.json\")"
   ]
  },
  {
   "cell_type": "code",
   "execution_count": 20,
   "metadata": {},
   "outputs": [
    {
     "data": {
      "text/plain": [
       "main_type\n",
       "Bug         1.436275\n",
       "Dark        1.567441\n",
       "Dragon      1.430928\n",
       "Electric    1.674137\n",
       "Fairy       1.156462\n",
       "Fighting    2.024391\n",
       "Fire        1.199374\n",
       "Flying      2.887096\n",
       "Ghost       1.672276\n",
       "Grass       1.000000\n",
       "Ground      1.716747\n",
       "Ice         1.218333\n",
       "Normal      1.143040\n",
       "Poison      1.157223\n",
       "Psychic     1.364095\n",
       "Rock        1.385028\n",
       "Steel       2.185071\n",
       "Water       1.273653\n",
       "Name: class_discrepancy, dtype: float64"
      ]
     },
     "execution_count": 20,
     "metadata": {},
     "output_type": "execute_result"
    }
   ],
   "source": [
    "df.class_discrepancy**2"
   ]
  },
  {
   "cell_type": "code",
   "execution_count": 22,
   "metadata": {},
   "outputs": [
    {
     "data": {
      "text/plain": [
       "{'Bug': 1.1984468836,\n",
       " 'Dark': 1.2519746791,\n",
       " 'Dragon': 1.1962141261,\n",
       " 'Electric': 1.2938844204,\n",
       " 'Fairy': 1.0753893262,\n",
       " 'Fighting': 1.4228108192,\n",
       " 'Fire': 1.095159263,\n",
       " 'Flying': 1.6991456672,\n",
       " 'Ghost': 1.2931652508,\n",
       " 'Grass': 1.0,\n",
       " 'Ground': 1.3102470839,\n",
       " 'Ice': 1.1037812916,\n",
       " 'Normal': 1.0691302976,\n",
       " 'Poison': 1.0757428899,\n",
       " 'Psychic': 1.1679445984,\n",
       " 'Rock': 1.1768722897,\n",
       " 'Steel': 1.4781984435,\n",
       " 'Water': 1.1285625475}"
      ]
     },
     "execution_count": 22,
     "metadata": {},
     "output_type": "execute_result"
    }
   ],
   "source": [
    "import json\n",
    "with open(\"../class_performance.json\",) as f:\n",
    "    j = json.load(f)    \n",
    "j"
   ]
  },
  {
   "cell_type": "code",
   "execution_count": null,
   "metadata": {},
   "outputs": [],
   "source": []
  }
 ],
 "metadata": {
  "kernelspec": {
   "display_name": "torch",
   "language": "python",
   "name": "python3"
  },
  "language_info": {
   "codemirror_mode": {
    "name": "ipython",
    "version": 3
   },
   "file_extension": ".py",
   "mimetype": "text/x-python",
   "name": "python",
   "nbconvert_exporter": "python",
   "pygments_lexer": "ipython3",
   "version": "3.11.4"
  }
 },
 "nbformat": 4,
 "nbformat_minor": 2
}
