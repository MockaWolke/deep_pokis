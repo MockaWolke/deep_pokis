{
 "cells": [
  {
   "cell_type": "code",
   "execution_count": 1,
   "metadata": {},
   "outputs": [],
   "source": [
    "from models import ModelTemplate, LightningWrapper, ExampleCNN, ExampleMlp\n",
    "from torch.utils.data import DataLoader\n",
    "from tqdm import tqdm\n",
    "from data_loading import PokemonDataset\n",
    "import os\n",
    "from lightning import Trainer\n",
    "from datetime import datetime\n",
    "from lightning.pytorch.loggers import TensorBoardLogger, CSVLogger\n",
    "from torch import nn\n",
    "import torch\n",
    "\n",
    "CORES = 4 #os.cpu_count()"
   ]
  },
  {
   "cell_type": "code",
   "execution_count": 2,
   "metadata": {},
   "outputs": [],
   "source": [
    "train_dataset = PokemonDataset(\"train\",)\n",
    "val_dataset = PokemonDataset(\"val\",)\n",
    "train_loader = DataLoader(train_dataset, batch_size=64, num_workers=CORES)\n",
    "val_loader  = DataLoader(val_dataset, batch_size=64, num_workers=CORES)"
   ]
  },
  {
   "cell_type": "code",
   "execution_count": 9,
   "metadata": {},
   "outputs": [
    {
     "name": "stderr",
     "output_type": "stream",
     "text": [
      "GPU available: False, used: False\n",
      "TPU available: False, using: 0 TPU cores\n",
      "IPU available: False, using: 0 IPUs\n",
      "HPU available: False, using: 0 HPUs\n",
      "Missing logger folder: logs/csv/example_cnn_04.09.2024_17:02:33\n",
      "\n",
      "  | Name        | Type             | Params\n",
      "-------------------------------------------------\n",
      "0 | model       | ExampleMlp       | 1.6 M \n",
      "1 | loss_metric | MeanMetric       | 0     \n",
      "2 | loss_func   | CrossEntropyLoss | 0     \n",
      "-------------------------------------------------\n",
      "1.6 M     Trainable params\n",
      "0         Non-trainable params\n",
      "1.6 M     Total params\n",
      "6.377     Total estimated model params size (MB)\n"
     ]
    },
    {
     "data": {
      "application/vnd.jupyter.widget-view+json": {
       "model_id": "3a85a05214f947568c107481ee179f85",
       "version_major": 2,
       "version_minor": 0
      },
      "text/plain": [
       "Sanity Checking: |          | 0/? [00:00<?, ?it/s]"
      ]
     },
     "metadata": {},
     "output_type": "display_data"
    },
    {
     "data": {
      "application/vnd.jupyter.widget-view+json": {
       "model_id": "c192284eadfb485d9462453aba1c8795",
       "version_major": 2,
       "version_minor": 0
      },
      "text/plain": [
       "Training: |          | 0/? [00:00<?, ?it/s]"
      ]
     },
     "metadata": {},
     "output_type": "display_data"
    },
    {
     "data": {
      "application/vnd.jupyter.widget-view+json": {
       "model_id": "46ed9362d1ef4b77930c2ae1232709ec",
       "version_major": 2,
       "version_minor": 0
      },
      "text/plain": [
       "Validation: |          | 0/? [00:00<?, ?it/s]"
      ]
     },
     "metadata": {},
     "output_type": "display_data"
    },
    {
     "data": {
      "application/vnd.jupyter.widget-view+json": {
       "model_id": "10382ee2225e423da1ab7a28cc4af3cb",
       "version_major": 2,
       "version_minor": 0
      },
      "text/plain": [
       "Validation: |          | 0/? [00:00<?, ?it/s]"
      ]
     },
     "metadata": {},
     "output_type": "display_data"
    },
    {
     "data": {
      "application/vnd.jupyter.widget-view+json": {
       "model_id": "917a5d9a916346a1b799afcb4eca2e40",
       "version_major": 2,
       "version_minor": 0
      },
      "text/plain": [
       "Validation: |          | 0/? [00:00<?, ?it/s]"
      ]
     },
     "metadata": {},
     "output_type": "display_data"
    },
    {
     "name": "stderr",
     "output_type": "stream",
     "text": [
      "/home/felix/miniconda3/envs/nlp/lib/python3.9/site-packages/lightning/pytorch/trainer/call.py:54: Detected KeyboardInterrupt, attempting graceful shutdown...\n"
     ]
    }
   ],
   "source": [
    "os.makedirs(\"logs/tb\",exist_ok=True)\n",
    "os.makedirs(\"logs/csv\",exist_ok=True)\n",
    "\n",
    "EXP_NAME = \"example_cnn\"\n",
    "time_stamp = datetime.now().strftime(\"%m.%d.%Y_%H:%M:%S\")\n",
    "run_name = f\"{EXP_NAME}_{time_stamp}\"\n",
    "\n",
    "loggers = [CSVLogger(\"logs/csv\", run_name),TensorBoardLogger(\"logs/tb\", run_name),]\n",
    "\n",
    "model = ExampleMlp(True, train_dataset.num_classes, imgsz=256)\n",
    "wrapper = LightningWrapper(model)\n",
    "trainer = Trainer(devices=\"auto\", logger=loggers, max_epochs=4)\n",
    "trainer.fit(wrapper, train_loader, val_loader, )"
   ]
  },
  {
   "cell_type": "code",
   "execution_count": 10,
   "metadata": {},
   "outputs": [
    {
     "name": "stderr",
     "output_type": "stream",
     "text": [
      "GPU available: False, used: False\n",
      "TPU available: False, using: 0 TPU cores\n",
      "IPU available: False, using: 0 IPUs\n",
      "HPU available: False, using: 0 HPUs\n",
      "Missing logger folder: logs/csv/example_cnn_04.09.2024_17:06:34\n",
      "\n",
      "  | Name        | Type             | Params\n",
      "-------------------------------------------------\n",
      "0 | model       | ExampleCNN       | 101 K \n",
      "1 | loss_metric | MeanMetric       | 0     \n",
      "2 | loss_func   | CrossEntropyLoss | 0     \n",
      "-------------------------------------------------\n",
      "101 K     Trainable params\n",
      "0         Non-trainable params\n",
      "101 K     Total params\n",
      "0.407     Total estimated model params size (MB)\n"
     ]
    },
    {
     "data": {
      "application/vnd.jupyter.widget-view+json": {
       "model_id": "9c9f7c0b568d4afcadab911102294084",
       "version_major": 2,
       "version_minor": 0
      },
      "text/plain": [
       "Sanity Checking: |          | 0/? [00:00<?, ?it/s]"
      ]
     },
     "metadata": {},
     "output_type": "display_data"
    },
    {
     "data": {
      "application/vnd.jupyter.widget-view+json": {
       "model_id": "eed56658eaf644078b01b5a85fdf2802",
       "version_major": 2,
       "version_minor": 0
      },
      "text/plain": [
       "Training: |          | 0/? [00:00<?, ?it/s]"
      ]
     },
     "metadata": {},
     "output_type": "display_data"
    }
   ],
   "source": [
    "os.makedirs(\"logs/tb\",exist_ok=True)\n",
    "os.makedirs(\"logs/csv\",exist_ok=True)\n",
    "\n",
    "EXP_NAME = \"example_cnn\"\n",
    "time_stamp = datetime.now().strftime(\"%m.%d.%Y_%H:%M:%S\")\n",
    "run_name = f\"{EXP_NAME}_{time_stamp}\"\n",
    "\n",
    "loggers = [CSVLogger(\"logs/csv\", run_name),TensorBoardLogger(\"logs/tb\", run_name),]\n",
    "\n",
    "model = ExampleCNN(True, train_dataset.num_classes, 256)\n",
    "wrapper = LightningWrapper(model)\n",
    "trainer = Trainer(devices=\"auto\", logger=loggers, max_epochs=2)\n",
    "trainer.fit(wrapper, train_loader, val_loader, )"
   ]
  },
  {
   "cell_type": "code",
   "execution_count": 3,
   "metadata": {},
   "outputs": [
    {
     "name": "stderr",
     "output_type": "stream",
     "text": [
      "/home/felix/miniconda3/envs/torch/lib/python3.11/site-packages/tqdm/auto.py:21: TqdmWarning: IProgress not found. Please update jupyter and ipywidgets. See https://ipywidgets.readthedocs.io/en/stable/user_install.html\n",
      "  from .autonotebook import tqdm as notebook_tqdm\n"
     ]
    }
   ],
   "source": [
    "import timm"
   ]
  },
  {
   "cell_type": "code",
   "execution_count": 22,
   "metadata": {},
   "outputs": [],
   "source": []
  },
  {
   "cell_type": "code",
   "execution_count": 23,
   "metadata": {},
   "outputs": [],
   "source": [
    "model = TimmModel(True, 18, )"
   ]
  },
  {
   "cell_type": "code",
   "execution_count": 25,
   "metadata": {},
   "outputs": [
    {
     "data": {
      "text/plain": [
       "torch.Size([1, 18])"
      ]
     },
     "execution_count": 25,
     "metadata": {},
     "output_type": "execute_result"
    }
   ],
   "source": [
    "model(torch.randn(1,6,256,256)).shape"
   ]
  },
  {
   "cell_type": "code",
   "execution_count": 15,
   "metadata": {},
   "outputs": [],
   "source": [
    "back_bone = \n"
   ]
  },
  {
   "cell_type": "code",
   "execution_count": 20,
   "metadata": {},
   "outputs": [
    {
     "data": {
      "text/plain": [
       "FeatureListNet(\n",
       "  (stem_0): Conv2d(6, 96, kernel_size=(4, 4), stride=(4, 4))\n",
       "  (stem_1): LayerNorm2d((96,), eps=1e-06, elementwise_affine=True)\n",
       "  (stages_0): ConvNeXtStage(\n",
       "    (downsample): Identity()\n",
       "    (blocks): Sequential(\n",
       "      (0): ConvNeXtBlock(\n",
       "        (conv_dw): Conv2d(96, 96, kernel_size=(7, 7), stride=(1, 1), padding=(3, 3), groups=96)\n",
       "        (norm): LayerNorm((96,), eps=1e-06, elementwise_affine=True)\n",
       "        (mlp): GlobalResponseNormMlp(\n",
       "          (fc1): Linear(in_features=96, out_features=384, bias=True)\n",
       "          (act): GELU()\n",
       "          (drop1): Dropout(p=0.0, inplace=False)\n",
       "          (grn): GlobalResponseNorm()\n",
       "          (fc2): Linear(in_features=384, out_features=96, bias=True)\n",
       "          (drop2): Dropout(p=0.0, inplace=False)\n",
       "        )\n",
       "        (shortcut): Identity()\n",
       "        (drop_path): Identity()\n",
       "      )\n",
       "      (1): ConvNeXtBlock(\n",
       "        (conv_dw): Conv2d(96, 96, kernel_size=(7, 7), stride=(1, 1), padding=(3, 3), groups=96)\n",
       "        (norm): LayerNorm((96,), eps=1e-06, elementwise_affine=True)\n",
       "        (mlp): GlobalResponseNormMlp(\n",
       "          (fc1): Linear(in_features=96, out_features=384, bias=True)\n",
       "          (act): GELU()\n",
       "          (drop1): Dropout(p=0.0, inplace=False)\n",
       "          (grn): GlobalResponseNorm()\n",
       "          (fc2): Linear(in_features=384, out_features=96, bias=True)\n",
       "          (drop2): Dropout(p=0.0, inplace=False)\n",
       "        )\n",
       "        (shortcut): Identity()\n",
       "        (drop_path): Identity()\n",
       "      )\n",
       "      (2): ConvNeXtBlock(\n",
       "        (conv_dw): Conv2d(96, 96, kernel_size=(7, 7), stride=(1, 1), padding=(3, 3), groups=96)\n",
       "        (norm): LayerNorm((96,), eps=1e-06, elementwise_affine=True)\n",
       "        (mlp): GlobalResponseNormMlp(\n",
       "          (fc1): Linear(in_features=96, out_features=384, bias=True)\n",
       "          (act): GELU()\n",
       "          (drop1): Dropout(p=0.0, inplace=False)\n",
       "          (grn): GlobalResponseNorm()\n",
       "          (fc2): Linear(in_features=384, out_features=96, bias=True)\n",
       "          (drop2): Dropout(p=0.0, inplace=False)\n",
       "        )\n",
       "        (shortcut): Identity()\n",
       "        (drop_path): Identity()\n",
       "      )\n",
       "    )\n",
       "  )\n",
       "  (stages_1): ConvNeXtStage(\n",
       "    (downsample): Sequential(\n",
       "      (0): LayerNorm2d((96,), eps=1e-06, elementwise_affine=True)\n",
       "      (1): Conv2d(96, 192, kernel_size=(2, 2), stride=(2, 2))\n",
       "    )\n",
       "    (blocks): Sequential(\n",
       "      (0): ConvNeXtBlock(\n",
       "        (conv_dw): Conv2d(192, 192, kernel_size=(7, 7), stride=(1, 1), padding=(3, 3), groups=192)\n",
       "        (norm): LayerNorm((192,), eps=1e-06, elementwise_affine=True)\n",
       "        (mlp): GlobalResponseNormMlp(\n",
       "          (fc1): Linear(in_features=192, out_features=768, bias=True)\n",
       "          (act): GELU()\n",
       "          (drop1): Dropout(p=0.0, inplace=False)\n",
       "          (grn): GlobalResponseNorm()\n",
       "          (fc2): Linear(in_features=768, out_features=192, bias=True)\n",
       "          (drop2): Dropout(p=0.0, inplace=False)\n",
       "        )\n",
       "        (shortcut): Identity()\n",
       "        (drop_path): Identity()\n",
       "      )\n",
       "      (1): ConvNeXtBlock(\n",
       "        (conv_dw): Conv2d(192, 192, kernel_size=(7, 7), stride=(1, 1), padding=(3, 3), groups=192)\n",
       "        (norm): LayerNorm((192,), eps=1e-06, elementwise_affine=True)\n",
       "        (mlp): GlobalResponseNormMlp(\n",
       "          (fc1): Linear(in_features=192, out_features=768, bias=True)\n",
       "          (act): GELU()\n",
       "          (drop1): Dropout(p=0.0, inplace=False)\n",
       "          (grn): GlobalResponseNorm()\n",
       "          (fc2): Linear(in_features=768, out_features=192, bias=True)\n",
       "          (drop2): Dropout(p=0.0, inplace=False)\n",
       "        )\n",
       "        (shortcut): Identity()\n",
       "        (drop_path): Identity()\n",
       "      )\n",
       "      (2): ConvNeXtBlock(\n",
       "        (conv_dw): Conv2d(192, 192, kernel_size=(7, 7), stride=(1, 1), padding=(3, 3), groups=192)\n",
       "        (norm): LayerNorm((192,), eps=1e-06, elementwise_affine=True)\n",
       "        (mlp): GlobalResponseNormMlp(\n",
       "          (fc1): Linear(in_features=192, out_features=768, bias=True)\n",
       "          (act): GELU()\n",
       "          (drop1): Dropout(p=0.0, inplace=False)\n",
       "          (grn): GlobalResponseNorm()\n",
       "          (fc2): Linear(in_features=768, out_features=192, bias=True)\n",
       "          (drop2): Dropout(p=0.0, inplace=False)\n",
       "        )\n",
       "        (shortcut): Identity()\n",
       "        (drop_path): Identity()\n",
       "      )\n",
       "    )\n",
       "  )\n",
       "  (stages_2): ConvNeXtStage(\n",
       "    (downsample): Sequential(\n",
       "      (0): LayerNorm2d((192,), eps=1e-06, elementwise_affine=True)\n",
       "      (1): Conv2d(192, 384, kernel_size=(2, 2), stride=(2, 2))\n",
       "    )\n",
       "    (blocks): Sequential(\n",
       "      (0): ConvNeXtBlock(\n",
       "        (conv_dw): Conv2d(384, 384, kernel_size=(7, 7), stride=(1, 1), padding=(3, 3), groups=384)\n",
       "        (norm): LayerNorm((384,), eps=1e-06, elementwise_affine=True)\n",
       "        (mlp): GlobalResponseNormMlp(\n",
       "          (fc1): Linear(in_features=384, out_features=1536, bias=True)\n",
       "          (act): GELU()\n",
       "          (drop1): Dropout(p=0.0, inplace=False)\n",
       "          (grn): GlobalResponseNorm()\n",
       "          (fc2): Linear(in_features=1536, out_features=384, bias=True)\n",
       "          (drop2): Dropout(p=0.0, inplace=False)\n",
       "        )\n",
       "        (shortcut): Identity()\n",
       "        (drop_path): Identity()\n",
       "      )\n",
       "      (1): ConvNeXtBlock(\n",
       "        (conv_dw): Conv2d(384, 384, kernel_size=(7, 7), stride=(1, 1), padding=(3, 3), groups=384)\n",
       "        (norm): LayerNorm((384,), eps=1e-06, elementwise_affine=True)\n",
       "        (mlp): GlobalResponseNormMlp(\n",
       "          (fc1): Linear(in_features=384, out_features=1536, bias=True)\n",
       "          (act): GELU()\n",
       "          (drop1): Dropout(p=0.0, inplace=False)\n",
       "          (grn): GlobalResponseNorm()\n",
       "          (fc2): Linear(in_features=1536, out_features=384, bias=True)\n",
       "          (drop2): Dropout(p=0.0, inplace=False)\n",
       "        )\n",
       "        (shortcut): Identity()\n",
       "        (drop_path): Identity()\n",
       "      )\n",
       "      (2): ConvNeXtBlock(\n",
       "        (conv_dw): Conv2d(384, 384, kernel_size=(7, 7), stride=(1, 1), padding=(3, 3), groups=384)\n",
       "        (norm): LayerNorm((384,), eps=1e-06, elementwise_affine=True)\n",
       "        (mlp): GlobalResponseNormMlp(\n",
       "          (fc1): Linear(in_features=384, out_features=1536, bias=True)\n",
       "          (act): GELU()\n",
       "          (drop1): Dropout(p=0.0, inplace=False)\n",
       "          (grn): GlobalResponseNorm()\n",
       "          (fc2): Linear(in_features=1536, out_features=384, bias=True)\n",
       "          (drop2): Dropout(p=0.0, inplace=False)\n",
       "        )\n",
       "        (shortcut): Identity()\n",
       "        (drop_path): Identity()\n",
       "      )\n",
       "      (3): ConvNeXtBlock(\n",
       "        (conv_dw): Conv2d(384, 384, kernel_size=(7, 7), stride=(1, 1), padding=(3, 3), groups=384)\n",
       "        (norm): LayerNorm((384,), eps=1e-06, elementwise_affine=True)\n",
       "        (mlp): GlobalResponseNormMlp(\n",
       "          (fc1): Linear(in_features=384, out_features=1536, bias=True)\n",
       "          (act): GELU()\n",
       "          (drop1): Dropout(p=0.0, inplace=False)\n",
       "          (grn): GlobalResponseNorm()\n",
       "          (fc2): Linear(in_features=1536, out_features=384, bias=True)\n",
       "          (drop2): Dropout(p=0.0, inplace=False)\n",
       "        )\n",
       "        (shortcut): Identity()\n",
       "        (drop_path): Identity()\n",
       "      )\n",
       "      (4): ConvNeXtBlock(\n",
       "        (conv_dw): Conv2d(384, 384, kernel_size=(7, 7), stride=(1, 1), padding=(3, 3), groups=384)\n",
       "        (norm): LayerNorm((384,), eps=1e-06, elementwise_affine=True)\n",
       "        (mlp): GlobalResponseNormMlp(\n",
       "          (fc1): Linear(in_features=384, out_features=1536, bias=True)\n",
       "          (act): GELU()\n",
       "          (drop1): Dropout(p=0.0, inplace=False)\n",
       "          (grn): GlobalResponseNorm()\n",
       "          (fc2): Linear(in_features=1536, out_features=384, bias=True)\n",
       "          (drop2): Dropout(p=0.0, inplace=False)\n",
       "        )\n",
       "        (shortcut): Identity()\n",
       "        (drop_path): Identity()\n",
       "      )\n",
       "      (5): ConvNeXtBlock(\n",
       "        (conv_dw): Conv2d(384, 384, kernel_size=(7, 7), stride=(1, 1), padding=(3, 3), groups=384)\n",
       "        (norm): LayerNorm((384,), eps=1e-06, elementwise_affine=True)\n",
       "        (mlp): GlobalResponseNormMlp(\n",
       "          (fc1): Linear(in_features=384, out_features=1536, bias=True)\n",
       "          (act): GELU()\n",
       "          (drop1): Dropout(p=0.0, inplace=False)\n",
       "          (grn): GlobalResponseNorm()\n",
       "          (fc2): Linear(in_features=1536, out_features=384, bias=True)\n",
       "          (drop2): Dropout(p=0.0, inplace=False)\n",
       "        )\n",
       "        (shortcut): Identity()\n",
       "        (drop_path): Identity()\n",
       "      )\n",
       "      (6): ConvNeXtBlock(\n",
       "        (conv_dw): Conv2d(384, 384, kernel_size=(7, 7), stride=(1, 1), padding=(3, 3), groups=384)\n",
       "        (norm): LayerNorm((384,), eps=1e-06, elementwise_affine=True)\n",
       "        (mlp): GlobalResponseNormMlp(\n",
       "          (fc1): Linear(in_features=384, out_features=1536, bias=True)\n",
       "          (act): GELU()\n",
       "          (drop1): Dropout(p=0.0, inplace=False)\n",
       "          (grn): GlobalResponseNorm()\n",
       "          (fc2): Linear(in_features=1536, out_features=384, bias=True)\n",
       "          (drop2): Dropout(p=0.0, inplace=False)\n",
       "        )\n",
       "        (shortcut): Identity()\n",
       "        (drop_path): Identity()\n",
       "      )\n",
       "      (7): ConvNeXtBlock(\n",
       "        (conv_dw): Conv2d(384, 384, kernel_size=(7, 7), stride=(1, 1), padding=(3, 3), groups=384)\n",
       "        (norm): LayerNorm((384,), eps=1e-06, elementwise_affine=True)\n",
       "        (mlp): GlobalResponseNormMlp(\n",
       "          (fc1): Linear(in_features=384, out_features=1536, bias=True)\n",
       "          (act): GELU()\n",
       "          (drop1): Dropout(p=0.0, inplace=False)\n",
       "          (grn): GlobalResponseNorm()\n",
       "          (fc2): Linear(in_features=1536, out_features=384, bias=True)\n",
       "          (drop2): Dropout(p=0.0, inplace=False)\n",
       "        )\n",
       "        (shortcut): Identity()\n",
       "        (drop_path): Identity()\n",
       "      )\n",
       "      (8): ConvNeXtBlock(\n",
       "        (conv_dw): Conv2d(384, 384, kernel_size=(7, 7), stride=(1, 1), padding=(3, 3), groups=384)\n",
       "        (norm): LayerNorm((384,), eps=1e-06, elementwise_affine=True)\n",
       "        (mlp): GlobalResponseNormMlp(\n",
       "          (fc1): Linear(in_features=384, out_features=1536, bias=True)\n",
       "          (act): GELU()\n",
       "          (drop1): Dropout(p=0.0, inplace=False)\n",
       "          (grn): GlobalResponseNorm()\n",
       "          (fc2): Linear(in_features=1536, out_features=384, bias=True)\n",
       "          (drop2): Dropout(p=0.0, inplace=False)\n",
       "        )\n",
       "        (shortcut): Identity()\n",
       "        (drop_path): Identity()\n",
       "      )\n",
       "    )\n",
       "  )\n",
       "  (stages_3): ConvNeXtStage(\n",
       "    (downsample): Sequential(\n",
       "      (0): LayerNorm2d((384,), eps=1e-06, elementwise_affine=True)\n",
       "      (1): Conv2d(384, 768, kernel_size=(2, 2), stride=(2, 2))\n",
       "    )\n",
       "    (blocks): Sequential(\n",
       "      (0): ConvNeXtBlock(\n",
       "        (conv_dw): Conv2d(768, 768, kernel_size=(7, 7), stride=(1, 1), padding=(3, 3), groups=768)\n",
       "        (norm): LayerNorm((768,), eps=1e-06, elementwise_affine=True)\n",
       "        (mlp): GlobalResponseNormMlp(\n",
       "          (fc1): Linear(in_features=768, out_features=3072, bias=True)\n",
       "          (act): GELU()\n",
       "          (drop1): Dropout(p=0.0, inplace=False)\n",
       "          (grn): GlobalResponseNorm()\n",
       "          (fc2): Linear(in_features=3072, out_features=768, bias=True)\n",
       "          (drop2): Dropout(p=0.0, inplace=False)\n",
       "        )\n",
       "        (shortcut): Identity()\n",
       "        (drop_path): Identity()\n",
       "      )\n",
       "      (1): ConvNeXtBlock(\n",
       "        (conv_dw): Conv2d(768, 768, kernel_size=(7, 7), stride=(1, 1), padding=(3, 3), groups=768)\n",
       "        (norm): LayerNorm((768,), eps=1e-06, elementwise_affine=True)\n",
       "        (mlp): GlobalResponseNormMlp(\n",
       "          (fc1): Linear(in_features=768, out_features=3072, bias=True)\n",
       "          (act): GELU()\n",
       "          (drop1): Dropout(p=0.0, inplace=False)\n",
       "          (grn): GlobalResponseNorm()\n",
       "          (fc2): Linear(in_features=3072, out_features=768, bias=True)\n",
       "          (drop2): Dropout(p=0.0, inplace=False)\n",
       "        )\n",
       "        (shortcut): Identity()\n",
       "        (drop_path): Identity()\n",
       "      )\n",
       "      (2): ConvNeXtBlock(\n",
       "        (conv_dw): Conv2d(768, 768, kernel_size=(7, 7), stride=(1, 1), padding=(3, 3), groups=768)\n",
       "        (norm): LayerNorm((768,), eps=1e-06, elementwise_affine=True)\n",
       "        (mlp): GlobalResponseNormMlp(\n",
       "          (fc1): Linear(in_features=768, out_features=3072, bias=True)\n",
       "          (act): GELU()\n",
       "          (drop1): Dropout(p=0.0, inplace=False)\n",
       "          (grn): GlobalResponseNorm()\n",
       "          (fc2): Linear(in_features=3072, out_features=768, bias=True)\n",
       "          (drop2): Dropout(p=0.0, inplace=False)\n",
       "        )\n",
       "        (shortcut): Identity()\n",
       "        (drop_path): Identity()\n",
       "      )\n",
       "    )\n",
       "  )\n",
       ")"
      ]
     },
     "execution_count": 20,
     "metadata": {},
     "output_type": "execute_result"
    }
   ],
   "source": [
    "model"
   ]
  },
  {
   "cell_type": "code",
   "execution_count": 17,
   "metadata": {},
   "outputs": [
    {
     "data": {
      "text/plain": [
       "torch.Size([1, 768, 8, 8])"
      ]
     },
     "execution_count": 17,
     "metadata": {},
     "output_type": "execute_result"
    }
   ],
   "source": [
    "x = torch.randn(1,6,256,256)\n",
    "model(x)[0].shape"
   ]
  },
  {
   "cell_type": "code",
   "execution_count": 4,
   "metadata": {},
   "outputs": [
    {
     "data": {
      "text/plain": [
       "['convnext_atto',\n",
       " 'convnext_atto_ols',\n",
       " 'convnext_base',\n",
       " 'convnext_femto',\n",
       " 'convnext_femto_ols',\n",
       " 'convnext_large',\n",
       " 'convnext_large_mlp',\n",
       " 'convnext_nano',\n",
       " 'convnext_nano_ols',\n",
       " 'convnext_pico',\n",
       " 'convnext_pico_ols',\n",
       " 'convnext_small',\n",
       " 'convnext_tiny',\n",
       " 'convnext_tiny_hnf',\n",
       " 'convnext_xlarge',\n",
       " 'convnext_xxlarge',\n",
       " 'convnextv2_atto',\n",
       " 'convnextv2_base',\n",
       " 'convnextv2_femto',\n",
       " 'convnextv2_huge',\n",
       " 'convnextv2_large',\n",
       " 'convnextv2_nano',\n",
       " 'convnextv2_pico',\n",
       " 'convnextv2_small',\n",
       " 'convnextv2_tiny']"
      ]
     },
     "execution_count": 4,
     "metadata": {},
     "output_type": "execute_result"
    }
   ],
   "source": [
    "timm.list_models('*convnext*')"
   ]
  }
 ],
 "metadata": {
  "kernelspec": {
   "display_name": "nlp",
   "language": "python",
   "name": "python3"
  },
  "language_info": {
   "codemirror_mode": {
    "name": "ipython",
    "version": 3
   },
   "file_extension": ".py",
   "mimetype": "text/x-python",
   "name": "python",
   "nbconvert_exporter": "python",
   "pygments_lexer": "ipython3",
   "version": "3.11.4"
  }
 },
 "nbformat": 4,
 "nbformat_minor": 2
}
