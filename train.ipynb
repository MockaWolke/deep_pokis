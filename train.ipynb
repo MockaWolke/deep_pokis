{
 "cells": [
  {
   "cell_type": "code",
   "execution_count": 1,
   "metadata": {},
   "outputs": [],
   "source": [
    "from models import ModelTemplate, LightningWrapper, ExampleCNN, ExampleMlp\n",
    "from torch.utils.data import DataLoader\n",
    "from tqdm import tqdm\n",
    "from data_loading import PokemonDataset\n",
    "import os\n",
    "from lightning import Trainer\n",
    "from datetime import datetime\n",
    "from lightning.pytorch.loggers import TensorBoardLogger, CSVLogger\n",
    "from torch import nn\n",
    "import torch\n",
    "\n",
    "CORES = 4 #os.cpu_count()"
   ]
  },
  {
   "cell_type": "code",
   "execution_count": 2,
   "metadata": {},
   "outputs": [],
   "source": [
    "train_dataset = PokemonDataset(\"train\",)\n",
    "val_dataset = PokemonDataset(\"val\",)\n",
    "train_loader = DataLoader(train_dataset, batch_size=64, num_workers=CORES, shuffle = True)\n",
    "val_loader  = DataLoader(val_dataset, batch_size=64, num_workers=CORES)"
   ]
  },
  {
   "cell_type": "code",
   "execution_count": 9,
   "metadata": {},
   "outputs": [
    {
     "name": "stderr",
     "output_type": "stream",
     "text": [
      "GPU available: False, used: False\n",
      "TPU available: False, using: 0 TPU cores\n",
      "IPU available: False, using: 0 IPUs\n",
      "HPU available: False, using: 0 HPUs\n",
      "Missing logger folder: logs/csv/example_cnn_04.09.2024_17:02:33\n",
      "\n",
      "  | Name        | Type             | Params\n",
      "-------------------------------------------------\n",
      "0 | model       | ExampleMlp       | 1.6 M \n",
      "1 | loss_metric | MeanMetric       | 0     \n",
      "2 | loss_func   | CrossEntropyLoss | 0     \n",
      "-------------------------------------------------\n",
      "1.6 M     Trainable params\n",
      "0         Non-trainable params\n",
      "1.6 M     Total params\n",
      "6.377     Total estimated model params size (MB)\n"
     ]
    },
    {
     "data": {
      "application/vnd.jupyter.widget-view+json": {
       "model_id": "3a85a05214f947568c107481ee179f85",
       "version_major": 2,
       "version_minor": 0
      },
      "text/plain": [
       "Sanity Checking: |          | 0/? [00:00<?, ?it/s]"
      ]
     },
     "metadata": {},
     "output_type": "display_data"
    },
    {
     "data": {
      "application/vnd.jupyter.widget-view+json": {
       "model_id": "c192284eadfb485d9462453aba1c8795",
       "version_major": 2,
       "version_minor": 0
      },
      "text/plain": [
       "Training: |          | 0/? [00:00<?, ?it/s]"
      ]
     },
     "metadata": {},
     "output_type": "display_data"
    },
    {
     "data": {
      "application/vnd.jupyter.widget-view+json": {
       "model_id": "46ed9362d1ef4b77930c2ae1232709ec",
       "version_major": 2,
       "version_minor": 0
      },
      "text/plain": [
       "Validation: |          | 0/? [00:00<?, ?it/s]"
      ]
     },
     "metadata": {},
     "output_type": "display_data"
    },
    {
     "data": {
      "application/vnd.jupyter.widget-view+json": {
       "model_id": "10382ee2225e423da1ab7a28cc4af3cb",
       "version_major": 2,
       "version_minor": 0
      },
      "text/plain": [
       "Validation: |          | 0/? [00:00<?, ?it/s]"
      ]
     },
     "metadata": {},
     "output_type": "display_data"
    },
    {
     "data": {
      "application/vnd.jupyter.widget-view+json": {
       "model_id": "917a5d9a916346a1b799afcb4eca2e40",
       "version_major": 2,
       "version_minor": 0
      },
      "text/plain": [
       "Validation: |          | 0/? [00:00<?, ?it/s]"
      ]
     },
     "metadata": {},
     "output_type": "display_data"
    },
    {
     "name": "stderr",
     "output_type": "stream",
     "text": [
      "/home/felix/miniconda3/envs/nlp/lib/python3.9/site-packages/lightning/pytorch/trainer/call.py:54: Detected KeyboardInterrupt, attempting graceful shutdown...\n"
     ]
    }
   ],
   "source": [
    "os.makedirs(\"logs/tb\",exist_ok=True)\n",
    "os.makedirs(\"logs/csv\",exist_ok=True)\n",
    "\n",
    "EXP_NAME = \"example_cnn\"\n",
    "time_stamp = datetime.now().strftime(\"%m.%d.%Y_%H:%M:%S\")\n",
    "run_name = f\"{EXP_NAME}_{time_stamp}\"\n",
    "\n",
    "loggers = [CSVLogger(\"logs/csv\", run_name),TensorBoardLogger(\"logs/tb\", run_name),]\n",
    "\n",
    "model = ExampleMlp(True, train_dataset.num_classes, imgsz=256)\n",
    "wrapper = LightningWrapper(model)\n",
    "trainer = Trainer(devices=\"auto\", logger=loggers, max_epochs=4)\n",
    "trainer.fit(wrapper, train_loader, val_loader, )"
   ]
  },
  {
   "cell_type": "code",
   "execution_count": 10,
   "metadata": {},
   "outputs": [
    {
     "name": "stderr",
     "output_type": "stream",
     "text": [
      "GPU available: False, used: False\n",
      "TPU available: False, using: 0 TPU cores\n",
      "IPU available: False, using: 0 IPUs\n",
      "HPU available: False, using: 0 HPUs\n",
      "Missing logger folder: logs/csv/example_cnn_04.09.2024_17:06:34\n",
      "\n",
      "  | Name        | Type             | Params\n",
      "-------------------------------------------------\n",
      "0 | model       | ExampleCNN       | 101 K \n",
      "1 | loss_metric | MeanMetric       | 0     \n",
      "2 | loss_func   | CrossEntropyLoss | 0     \n",
      "-------------------------------------------------\n",
      "101 K     Trainable params\n",
      "0         Non-trainable params\n",
      "101 K     Total params\n",
      "0.407     Total estimated model params size (MB)\n"
     ]
    },
    {
     "data": {
      "application/vnd.jupyter.widget-view+json": {
       "model_id": "9c9f7c0b568d4afcadab911102294084",
       "version_major": 2,
       "version_minor": 0
      },
      "text/plain": [
       "Sanity Checking: |          | 0/? [00:00<?, ?it/s]"
      ]
     },
     "metadata": {},
     "output_type": "display_data"
    },
    {
     "data": {
      "application/vnd.jupyter.widget-view+json": {
       "model_id": "eed56658eaf644078b01b5a85fdf2802",
       "version_major": 2,
       "version_minor": 0
      },
      "text/plain": [
       "Training: |          | 0/? [00:00<?, ?it/s]"
      ]
     },
     "metadata": {},
     "output_type": "display_data"
    }
   ],
   "source": [
    "os.makedirs(\"logs/tb\",exist_ok=True)\n",
    "os.makedirs(\"logs/csv\",exist_ok=True)\n",
    "\n",
    "EXP_NAME = \"example_cnn\"\n",
    "time_stamp = datetime.now().strftime(\"%m.%d.%Y_%H:%M:%S\")\n",
    "run_name = f\"{EXP_NAME}_{time_stamp}\"\n",
    "\n",
    "loggers = [CSVLogger(\"logs/csv\", run_name),TensorBoardLogger(\"logs/tb\", run_name),]\n",
    "\n",
    "model = ExampleCNN(True, train_dataset.num_classes, 256)\n",
    "wrapper = LightningWrapper(model)\n",
    "trainer = Trainer(devices=\"auto\", logger=loggers, max_epochs=2)\n",
    "trainer.fit(wrapper, train_loader, val_loader, )"
   ]
  }
 ],
 "metadata": {
  "kernelspec": {
   "display_name": "nlp",
   "language": "python",
   "name": "python3"
  },
  "language_info": {
   "codemirror_mode": {
    "name": "ipython",
    "version": 3
   },
   "file_extension": ".py",
   "mimetype": "text/x-python",
   "name": "python",
   "nbconvert_exporter": "python",
   "pygments_lexer": "ipython3",
   "version": "3.11.4"
  }
 },
 "nbformat": 4,
 "nbformat_minor": 2
}
